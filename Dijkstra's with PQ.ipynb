{
 "cells": [
  {
   "cell_type": "markdown",
   "id": "1ff24d71",
   "metadata": {},
   "source": [
    "# Dijkstra's algorithm with Priority queues "
   ]
  },
  {
   "cell_type": "code",
   "execution_count": 1,
   "id": "228d2af1",
   "metadata": {},
   "outputs": [
    {
     "name": "stdout",
     "output_type": "stream",
     "text": [
      "<queue.PriorityQueue object at 0x0000027453881B50>\n",
      "<queue.PriorityQueue object at 0x0000027453881B50>\n",
      "<queue.PriorityQueue object at 0x0000027453881B50>\n",
      "<queue.PriorityQueue object at 0x0000027453881B50>\n",
      "<queue.PriorityQueue object at 0x0000027453881B50>\n",
      "<queue.PriorityQueue object at 0x0000027453881B50>\n",
      "<queue.PriorityQueue object at 0x0000027453881B50>\n",
      "<queue.PriorityQueue object at 0x0000027453881B50>\n",
      "<queue.PriorityQueue object at 0x0000027453881B50>\n",
      "<queue.PriorityQueue object at 0x0000027453881B50>\n",
      "<queue.PriorityQueue object at 0x0000027453881B50>\n",
      "[0, 1.6, 4.6, 0.5, 7.699999999999999]\n"
     ]
    }
   ],
   "source": [
    "from queue import PriorityQueue\n",
    "\n",
    "ID=[0,0,0,0,0]  #this array stores information about the directed graph and its edges\n",
    "\n",
    "D=[0,1010,1010,1010,1010]#this array stores the shortest distance from the source to each vertex found till the current iteration\n",
    "PQ=PriorityQueue()\n",
    "visited=[0] #this array will store the path taken by us to reach the destination, in other words it stores the visited vertex\n",
    "\n",
    "######################################## Graph definition ###################################################################\n",
    "#here, the even indexes represent the reachable vertex from the current vertex, and the next odd index to that represents the edge\n",
    "#length. For eg. ID[0]=[3,0.5] implies there is an edge from 0->3 with an edge length of 0.5\n",
    "ID[0]=[3,0.5,1,2]\n",
    "ID[1]=[2,3,4,7]\n",
    "ID[2]=[4,3.1]\n",
    "ID[3]=[2,5,1,1.1]\n",
    "ID[4]=[]\n",
    "\n",
    "PQ.put((ID[0][1],ID[0][0],0))\n",
    "PQ.put((ID[0][3],ID[0][2],0))\n",
    "\n",
    "def visit(Q):\n",
    "    i=Q[1]\n",
    "    t=0\n",
    "    while t<=len(ID[i])-1:\n",
    "        PQ.put((ID[i][t+1],ID[i][t],i))\n",
    "        t+=2\n",
    "\n",
    "while not(PQ.empty()):\n",
    "    Q=PQ.get()\n",
    "    D[Q[1]]=min(D[Q[1]],D[Q[2]]+Q[0])\n",
    "    visit(Q)\n",
    "print(D)"
   ]
  }
 ],
 "metadata": {
  "kernelspec": {
   "display_name": "Python 3 (ipykernel)",
   "language": "python",
   "name": "python3"
  },
  "language_info": {
   "codemirror_mode": {
    "name": "ipython",
    "version": 3
   },
   "file_extension": ".py",
   "mimetype": "text/x-python",
   "name": "python",
   "nbconvert_exporter": "python",
   "pygments_lexer": "ipython3",
   "version": "3.9.7"
  }
 },
 "nbformat": 4,
 "nbformat_minor": 5
}
