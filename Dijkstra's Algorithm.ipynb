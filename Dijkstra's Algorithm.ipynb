{
 "cells": [
  {
   "cell_type": "markdown",
   "id": "b9f2f9d0",
   "metadata": {},
   "source": [
    "# Dijkstra's Algorithm \n",
    "\n",
    "### This notebook contains a basic implementation of Dijkstra's algorithm with a time complexity of O(n^2)"
   ]
  },
  {
   "cell_type": "code",
   "execution_count": 1,
   "id": "301b4fcf",
   "metadata": {},
   "outputs": [
    {
     "name": "stdout",
     "output_type": "stream",
     "text": [
      "Shortest distance from source to destination: 7.699999999999999\n",
      "Path taken: [0, 3, 1, 2, 4]\n"
     ]
    }
   ],
   "source": [
    "ID=[0,0,0,0,0]  #this array stores information about the directed graph and its edges\n",
    "\n",
    "PQ=[0,\"\",\"\",\"\",\"\"] #this array stores the shortest distance from the source to each vertex found till the current iteration\n",
    "\n",
    "visited=[0] #this array will store the path taken by us to reach the destination, in other words it stores the visited vertex\n",
    "\n",
    "######################################## Graph definition ###################################################################\n",
    "#here, the even indexes represent the reachable vertex from the current vertex, and the next odd index to that represents the edge\n",
    "#length. For eg. ID[0]=[3,0.5] implies there is an edge from 0->3 with an edge length of 0.5\n",
    "ID[0]=[3,0.5,1,2]\n",
    "ID[1]=[2,3,4,7]\n",
    "ID[2]=[4,3.1]\n",
    "ID[3]=[2,5,1,1.1]\n",
    "ID[4]=[]\n",
    "\n",
    "####################################### End of graph definition #################################################################\n",
    "\n",
    "def shortest(S):\n",
    "    \"\"\"\"the function takes in the ID[] array and returns the index of the edge with the shortest edge length from the current edge \"\"\"\n",
    "    i=1\n",
    "    x=S[i]\n",
    "    while i<=(len(S)-1):\n",
    "        if S[i]<=x:\n",
    "            x=S[i]\n",
    "            t=i\n",
    "        i=i+2\n",
    "    return (t-1)\n",
    "\n",
    "i=0\n",
    "while i!=4:\n",
    "    for t in range(0,len(ID[i]),2):\n",
    "        if PQ[ID[i][t]]==\"\" or PQ[ID[i][t]]>=(PQ[i]+ID[i][t+1]):\n",
    "            PQ[ID[i][t]]=(PQ[i]+ID[i][t+1])\n",
    "    t=ID[i][shortest(ID[i])]\n",
    "    visited.append(t)\n",
    "    i=t\n",
    "\n",
    "print(\"Shortest distance from source to destination:\",PQ[4])\n",
    "print(\"Path taken:\",visited)    "
   ]
  },
  {
   "cell_type": "code",
   "execution_count": null,
   "id": "0c4511ed",
   "metadata": {},
   "outputs": [],
   "source": []
  }
 ],
 "metadata": {
  "kernelspec": {
   "display_name": "Python 3 (ipykernel)",
   "language": "python",
   "name": "python3"
  },
  "language_info": {
   "codemirror_mode": {
    "name": "ipython",
    "version": 3
   },
   "file_extension": ".py",
   "mimetype": "text/x-python",
   "name": "python",
   "nbconvert_exporter": "python",
   "pygments_lexer": "ipython3",
   "version": "3.9.7"
  }
 },
 "nbformat": 4,
 "nbformat_minor": 5
}
